{
 "cells": [
  {
   "cell_type": "code",
   "execution_count": null,
   "id": "38b87ec4",
   "metadata": {},
   "outputs": [],
   "source": [
    " # 1) Crear un programa que imprima por pantalla el mensaje: “Hola Mundo!”. \n",
    "\n",
    "print(\"Hola Mundo!.\")"
   ]
  },
  {
   "cell_type": "code",
   "execution_count": null,
   "id": "34e0fe33",
   "metadata": {},
   "outputs": [],
   "source": [
    "# 2) \n",
    "# Crear un programa que pida al usuario su nombre \n",
    "# Que imprima por pantalla un saludo usando el nombre ingresado. \n",
    "\n",
    "nombre = input(\"Ingrese su nombre\")\n",
    "\n",
    "print(f\"Hola {nombre}, es un placer conocerte\")"
   ]
  },
  {
   "cell_type": "code",
   "execution_count": null,
   "id": "d70bff60",
   "metadata": {},
   "outputs": [],
   "source": [
    "# 3)\n",
    "# Crear un programa que pida al usuario su nombre, apellido, edad y lugar de residencia\n",
    "# Que imprima por pantalla una oración con los datos ingresados. \n",
    "\n",
    "nombre = input(\"Ingresa tu NOMBRE\")\n",
    "apellido = input(\"Ingresa tu APELLIDO\")\n",
    "edad = int(input(\"Ingresa tu EDAD\"))\n",
    "residencia = input(\"Ingresa tu lugar de RESIDENCIA\")\n",
    "\n",
    "print(f\"\\nHola {nombre} {apellido}.\",\n",
    "      f\"\\nTu edad es {edad}.\",\n",
    "      f\"\\nY tu lugar de residencia es {residencia}.\"\n",
    ")"
   ]
  },
  {
   "cell_type": "code",
   "execution_count": null,
   "id": "4949971a",
   "metadata": {},
   "outputs": [],
   "source": [
    "# 4)\n",
    "# Crear un programa que pida al usuario el radio de un círculo\n",
    "# Que imprima por pantalla su área y su perímetro.\n",
    "\n",
    "PI = 3.1416\n",
    "radio = 0\n",
    "\n",
    "radio = float(input(\"Ingrese el radio. \"))\n",
    "area = round((PI * (radio**2)), 2)\n",
    "perimetro = round((2 * PI * radio), 2)\n",
    "\n",
    "print(f\"\\nEl radio ingresado es {radio}\", \n",
    "      f\"\\nTomando pi con un valor de 3.1416\",\n",
    "      f\"\\nEl PERIMETRO es {perimetro}\",\n",
    "      f\"\\nEl AREA es {area}\"\n",
    ")"
   ]
  },
  {
   "cell_type": "code",
   "execution_count": 4,
   "id": "dad2f897",
   "metadata": {},
   "outputs": [
    {
     "name": "stdout",
     "output_type": "stream",
     "text": [
      "\n",
      "Ingresaste 70000 segundos. \n",
      "Equivale a 19.44 horas o 1166.67 minutos.\n"
     ]
    }
   ],
   "source": [
    "# 5)\n",
    "# Crear un programa que pida al usuario una cantidad de segundos\n",
    "# Que imprima por pantalla a cuántas horas equivale\n",
    "\n",
    "segundos = int(input(\"Ingrese los segundos. \"))\n",
    "\n",
    "horas = round((segundos / 3600), 2)\n",
    "minutos = round((segundos / 60), 2)\n",
    "\n",
    "print(f\"\\nIngresaste {segundos} segundos.\",\n",
    "      f\"\\nEquivale a {horas} horas o {minutos} minutos.\"\n",
    ")"
   ]
  },
  {
   "cell_type": "code",
   "execution_count": null,
   "id": "56bd152a",
   "metadata": {},
   "outputs": [],
   "source": [
    "# 6)\n",
    "# Crear un programa que pida al usuario un número\n",
    "# Que imprima por pantalla la tabla de multiplicar de dicho número.\n",
    "\n",
    "numero = int(input(\"Ingrese el numero al cual le desea conocer su respetiva tabla de multiplicar. \"))\n",
    "\n",
    "print(f\"\\n{numero} x 0 = \", numero * 0,\n",
    "      f\"\\n{numero} x 1 = \", numero * 1,\n",
    "      f\"\\n{numero} x 2 = \", numero * 2,\n",
    "      f\"\\n{numero} x 3 = \", numero * 3,\n",
    "      f\"\\n{numero} x 4 = \", numero * 4,\n",
    "      f\"\\n{numero} x 5 = \", numero * 5,\n",
    "      f\"\\n{numero} x 6 = \", numero * 6,\n",
    "      f\"\\n{numero} x 7 = \", numero * 7,\n",
    "      f\"\\n{numero} x 8 = \", numero * 8,\n",
    "      f\"\\n{numero} x 9 = \", numero * 9,\n",
    "      f\"\\n{numero} x 10 = \", numero * 10\n",
    ")"
   ]
  },
  {
   "cell_type": "code",
   "execution_count": 3,
   "id": "62eae0c8",
   "metadata": {},
   "outputs": [
    {
     "name": "stdout",
     "output_type": "stream",
     "text": [
      "\n",
      "20 + 30 = 50 \n",
      "20 - 30 = -10 \n",
      "20 * 30 = 600 \n",
      "20 / 30 = 0.67\n"
     ]
    }
   ],
   "source": [
    "# 7)\n",
    "# Crear un programa que pida al usuario dos números enteros distintos del 0 \n",
    "# Que imprima el resultado de sumarlos, dividirlos, multiplicarlos y restarlos.\n",
    "\n",
    "numero_1 = int(input(\"Ingrese el primer numero ENTERO, diferente a 0. \"))\n",
    "while numero_1 == 0: \n",
    "    numero_1 = int(input(\"Ingrese el primer numero ENTERO, diferente a 0. \"))\n",
    " \n",
    "numero_2 = int(input(\"Ingrese el segundo numero ENTERO, diferente a 0. \"))\n",
    "while numero_2 == 0:\n",
    "    numero_2 = int(input(\"Ingrese el segundo numero ENTERO, diferente a 0. \"))\n",
    "\n",
    "suma = numero_1 + numero_2\n",
    "resta = numero_1 - numero_2\n",
    "multi = numero_1 * numero_2\n",
    "divi = round(float(numero_1 / numero_2), 2)\n",
    "\n",
    "print(f\"\\n{numero_1} + {numero_2} = {suma}\",\n",
    "      f\"\\n{numero_1} - {numero_2} = {resta}\",\n",
    "      f\"\\n{numero_1} * {numero_2} = {multi}\",\n",
    "      f\"\\n{numero_1} / {numero_2} = {divi}\",\n",
    ")"
   ]
  },
  {
   "cell_type": "code",
   "execution_count": 2,
   "id": "add2df13",
   "metadata": {},
   "outputs": [
    {
     "name": "stdout",
     "output_type": "stream",
     "text": [
      "\n",
      "Con un peso de 106.0 Kilos \n",
      "Y\n",
      "Con una altura de 1.8 Metros \n",
      "Tu IMC es de 32.716\n"
     ]
    }
   ],
   "source": [
    "# 8)\n",
    "# Crear un programa que pida al usuario su altura y su peso\n",
    "# Que imprima por pantalla su índice de masa corporal. \n",
    "# 𝐼𝑀𝐶 = 𝑝𝑒𝑠𝑜(𝑘𝑔) / 𝑎𝑙𝑡𝑢𝑟𝑎(m)**2\n",
    "\n",
    "altura = float(input(\"Ingresa tu altura en Metros. \"))\n",
    "peso = float(input(\"Ingresa tu peso en Kg\"))\n",
    "imc = round(peso / (altura **2), 4)\n",
    "\n",
    "print(f\"\\nCon un peso de {peso} Kilos\",\n",
    "      f\"\\nY\"\n",
    "      f\"\\nCon una altura de {altura} Metros\",\n",
    "      f\"\\nTu IMC es de {imc}\"\n",
    ")"
   ]
  },
  {
   "cell_type": "code",
   "execution_count": null,
   "id": "dfa6186b",
   "metadata": {},
   "outputs": [
    {
     "name": "stdout",
     "output_type": "stream",
     "text": [
      "40.0º Celsius equivalen a 104.0º Fahrenheit.\n"
     ]
    }
   ],
   "source": [
    "# 9)\n",
    "# Crear un programa que pida al usuario una temperatura en grados Celsius\n",
    "# Que imprima por pantalla su equivalente en grados Fahrenheit. \n",
    "# 𝑇𝑒𝑚𝑝𝑒𝑟𝑎𝑡𝑢𝑟𝑎 𝑒𝑛 𝐹𝑎ℎ𝑟𝑒𝑛ℎ𝑒𝑖𝑡 = 9/5 . 𝑇𝑒𝑚𝑝𝑒𝑟𝑎𝑡𝑢𝑟𝑎(𝐶𝑒𝑙𝑠𝑖𝑢𝑠) + 32\n",
    "\n",
    "celsius = float(input(\"Ingrese la temperatura actual, en grados Celsius. \"))\n",
    "fahrenheit = round((9 /5) * celsius + 32, 2)\n",
    "\n",
    "print(f\"{celsius}º Celsius equivalen a {fahrenheit}º Fahrenheit.\")"
   ]
  },
  {
   "cell_type": "code",
   "execution_count": null,
   "id": "13804c7a",
   "metadata": {},
   "outputs": [],
   "source": [
    "# 10)\n",
    "# Crear un programa que pida al usuario 3 números\n",
    "# Que imprima por pantalla el promedio de dichos números.\n",
    "\n",
    "numero_1 = float(input(\"Ingrese el PRIMER numero: \"))\n",
    "numero_2 = float(input(\"Ingrese el SEGUNDO numero: \"))\n",
    "numero_3 = float(input(\"Ingrese el TERCER numero: \"))\n",
    "\n",
    "promedio = float((numero_1 + numero_2 + numero_3) / 3)\n",
    "\n",
    "print(f\"El promedio de los 3 numeros es: {promedio}\")"
   ]
  }
 ],
 "metadata": {
  "kernelspec": {
   "display_name": "Python 3",
   "language": "python",
   "name": "python3"
  },
  "language_info": {
   "codemirror_mode": {
    "name": "ipython",
    "version": 3
   },
   "file_extension": ".py",
   "mimetype": "text/x-python",
   "name": "python",
   "nbconvert_exporter": "python",
   "pygments_lexer": "ipython3",
   "version": "3.13.6"
  }
 },
 "nbformat": 4,
 "nbformat_minor": 5
}
