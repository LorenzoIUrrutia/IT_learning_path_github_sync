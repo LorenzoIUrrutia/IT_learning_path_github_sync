{
 "cells": [
  {
   "cell_type": "code",
   "execution_count": 9,
   "id": "9e6ef2d8",
   "metadata": {},
   "outputs": [
    {
     "name": "stdout",
     "output_type": "stream",
     "text": [
      "Es MENOR de edad\n"
     ]
    }
   ],
   "source": [
    "# 1)Actividad 1\n",
    "# Programa que solicite la edad del usuario. \n",
    "# Si el usuario es mayor de 18 años, deberá mostrar un mensaje en pantalla que diga “Es mayor de edad”.\n",
    "\n",
    "edad_actual = int(input(\"Ingrese su edad actual\"))\n",
    "\n",
    "if (edad_actual >= 18):\n",
    "    print(\"Es MAYOR de edad\")\n",
    "else:\n",
    "    print(\"Es MENOR de edad\")    "
   ]
  },
  {
   "cell_type": "code",
   "execution_count": 25,
   "id": "6be3ca3a",
   "metadata": {},
   "outputs": [
    {
     "name": "stdout",
     "output_type": "stream",
     "text": [
      "DESAPROBADO\n"
     ]
    }
   ],
   "source": [
    "# Actividad 2\n",
    "# Programa que solicite su nota al usuario. \n",
    "# Si la nota es mayor o igual a 6, deberá mostrar por pantalla un mensaje que diga “Aprobado”\n",
    "# Caso contrario deberá mostrar el mensaje “Desaprobado”.\n",
    "\n",
    "nota = int(input(\"Ingrese su nota\"))\n",
    "\n",
    "if (nota > 0) and (nota < 10):\n",
    "    if (nota >= 6):\n",
    "        print(\"APROBADO\")\n",
    "    else:\n",
    "        print(\"DESAPROBADO\")\n",
    "else:\n",
    "    print(\"Nota ingresada INCORRECTA\")"
   ]
  },
  {
   "cell_type": "code",
   "execution_count": null,
   "id": "5d195487",
   "metadata": {},
   "outputs": [
    {
     "name": "stdout",
     "output_type": "stream",
     "text": [
      "El numero ingresado el IMPAR\n"
     ]
    }
   ],
   "source": [
    "# Actividad 3\n",
    "# Programa que permita ingresar solo números pares. \n",
    "# Si el usuario ingresa un número par, imprimir por en pantalla el mensaje \"Ha ingresado un número par\"\n",
    "# Caso contrario, imprimir por pantalla \"Por favor, ingrese un número par\". \n",
    "\n",
    "num_1 = int(input(\"Ingrese un numero entero\"))\n",
    "\n",
    "if (num_1 % 2) == 0:\n",
    "    print(\"El numero ingresado es PAR\")\n",
    "else:\n",
    "    print(\"El numero ingresado el IMPAR\")"
   ]
  },
  {
   "cell_type": "code",
   "execution_count": 22,
   "id": "ac79fae4",
   "metadata": {},
   "outputs": [
    {
     "name": "stdout",
     "output_type": "stream",
     "text": [
      "Adulto/a\n"
     ]
    }
   ],
   "source": [
    "# Actividad 4\n",
    "# Programa que solicite al usuario su edad e imprima por pantalla a cuál de las siguientes categorías pertenece: \n",
    "# ● Niño/a: menor de 12 años. \n",
    "# ● Adolescente: mayor o igual que 12 años y menor que 18 años. \n",
    "# ● Adulto/a joven: mayor o igual que 18 años y menor que 30 años. \n",
    "# ● Adulto/a: mayor o igual que 30 años.\n",
    "\n",
    "edad_1 = int(input(\"Ingrese su edad actual\"))\n",
    "\n",
    "if edad_1 < 0:\n",
    "    print(\"Ingrese una edad valida, mayor a 0\")\n",
    "elif edad_1 > 0 and edad_1 < 12:\n",
    "    print(\"Niño/a\") \n",
    "elif edad_1 > 0 and edad_1 >= 12 and edad_1 < 18:\n",
    "    print(\"Adolescente\")\n",
    "elif edad_1 > 0 and edad_1 >= 18 and edad_1 < 30:\n",
    "    print(\"Adulto/a joven\")\n",
    "elif edad_1 > 0 and edad_1 >= 30 and edad_1 < 65:\n",
    "    print(\"Adulto/a\")\n",
    "else:\n",
    "    print(\"Adulto/a mayor\")"
   ]
  },
  {
   "cell_type": "code",
   "execution_count": 43,
   "id": "f27091e0",
   "metadata": {},
   "outputs": [
    {
     "name": "stdout",
     "output_type": "stream",
     "text": [
      "Contraseña de  0 caracteres\n",
      "Por favor, ingrese una contraseña de entre 8 y 14 caracteres\n"
     ]
    }
   ],
   "source": [
    "# Actividad 5\n",
    "# Programa que permita introducir contraseñas de entre 8 y 14 caracteres (incluyendo 8 y 14). \n",
    "# Si el usuario ingresa una contraseña de longitud adecuada\n",
    "# Imprimir por en pantalla el mensaje \"Ha ingresado una contraseña correcta\"\n",
    "# Caso contrario, imprimir por pantalla \"Por favor, ingrese una contraseña de entre 8 y 14 caracteres\"\n",
    "\n",
    "contra_1 = input(\"Ingrese una contraseña entre 8 y 14 caracteres\")\n",
    "\n",
    "print(f\"Contraseña de  {len(contra_1)} caracteres\")\n",
    "\n",
    "if len(contra_1) < 8 or len(contra_1) > 14:\n",
    "    print(\"Por favor, ingrese una contraseña de entre 8 y 14 caracteres\")\n",
    "else:\n",
    "    print(\"Ha ingresado una contraseña correcta\")\n"
   ]
  },
  {
   "cell_type": "code",
   "execution_count": null,
   "id": "cc40ac1c",
   "metadata": {},
   "outputs": [
    {
     "name": "stdout",
     "output_type": "stream",
     "text": [
      "[88, 78, 90, 92, 15, 62, 89, 22, 47, 58, 26, 10, 49, 93, 87, 98, 27, 49, 26, 40, 92, 12, 45, 66, 44, 54, 95, 13, 97, 35, 68, 34, 44, 36, 16, 81, 2, 90, 78, 25, 67, 39, 32, 83, 79, 91, 49, 58, 88, 67]\n",
      "Sesgo POSITIVO o sesgo a la DERECHA\n"
     ]
    }
   ],
   "source": [
    "# Actividad 6\n",
    "# Programa que tome la lista numeros_aleatorios, calcule su moda, su mediana y su media \n",
    "# Las compare para determinar si hay sesgo positivo, negativo o no hay sesgo. \n",
    "# Imprimir el resultado por pantalla\n",
    "\n",
    "from statistics import mode, median, mean\n",
    "import random\n",
    "\n",
    "num_random = [random.randint(1, 100) for i in range(50)]\n",
    "\n",
    "if mean(num_random) > median(num_random) and median(num_random) > mode(num_random):\n",
    "    print(\"Sesgo POSITIVO o sesgo a la DERECHA\")\n",
    "elif mean(num_random) < median(num_random) and median(num_random) < mode(num_random):\n",
    "    print(\"Sesgo NEGATIVO o sesgo a la IZQUIERDA\")\n",
    "elif mean(num_random) == median(num_random) and median(num_random) == mode(num_random):\n",
    "    print(\"Sin sesgo\")\n",
    "else:\n",
    "    print(\"Distribución ASIMÉTRICA\")"
   ]
  },
  {
   "cell_type": "code",
   "execution_count": 57,
   "id": "17c011a9",
   "metadata": {},
   "outputs": [
    {
     "name": "stdout",
     "output_type": "stream",
     "text": [
      "colas\n"
     ]
    }
   ],
   "source": [
    "# Actividad 7 \n",
    "# Programa que solicite una frase o palabra al usuario. \n",
    "# Si el string ingresado termina con vocal\n",
    "# Añadir un signo de exclamación al final e imprimir el string resultante por pantalla\n",
    "# Caso contrario, dejar el string tal cual lo ingresó el usuario e imprimirlo por pantalla.\n",
    "\n",
    "frase_1 = input(\"Ingrese una frase o palabra\")\n",
    "\n",
    "if frase_1[-1] in \"aeiouAEIOU\":\n",
    "    print(frase_1 + \"!\")\n",
    "else:\n",
    "    print(frase_1)"
   ]
  },
  {
   "cell_type": "code",
   "execution_count": null,
   "id": "83223b0b",
   "metadata": {},
   "outputs": [
    {
     "name": "stdout",
     "output_type": "stream",
     "text": [
      "Ha ingresado su nombre: lorenzo\n",
      " \n",
      "Ingrese 1 Si quiere su nombre en mayúsculas. \n",
      "\n",
      "Ingrese 2 Si quiere su nombre en minúsculas. \n",
      "\n",
      "Ingrese 3 Si quiere su nombre con la primera letra mayúscula.\n",
      "\n",
      "\n",
      "Ha seleccionado la opcion 3 \n",
      "\n",
      "Lorenzo\n"
     ]
    }
   ],
   "source": [
    "# Actividad 8\n",
    "# Programa que solicite al usuario que ingrese su nombre y el número 1, 2 o 3\n",
    "# 1. Si quiere su nombre en mayúsculas. Por ejemplo: PEDRO.\n",
    "# 2. Si quiere su nombre en minúsculas. Por ejemplo: pedro.\n",
    "# 3. Si quiere su nombre con la primera letra mayúscula. Por ejemplo: Pedro.\n",
    "# El programa debe transformar el nombre ingresado de acuerdo a la opción seleccionada por el usuario e imprimir el resultado por pantalla.\n",
    "nombre_1 = \" \"\n",
    "num_1 = 0\n",
    "\n",
    "nombre_1 = input(\"Ingrese su nombre\")\n",
    "print(f\"Ha ingresado su nombre: {nombre_1}\")\n",
    "\n",
    "print(\"\"\" \n",
    "Ingrese 1 Si quiere su nombre en mayúsculas. \\n\n",
    "Ingrese 2 Si quiere su nombre en minúsculas. \\n\n",
    "Ingrese 3 Si quiere su nombre con la primera letra mayúscula.\\n\n",
    "     \"\"\")\n",
    "\n",
    "num_1 = int(input(\"Ingrese una opcion (1, 2 o 3): \"))\n",
    "if num_1 == 1:\n",
    "    print(f\"Ha seleccionado la opcion {num_1} \\n\")\n",
    "    print(nombre_1 .upper())\n",
    "elif num_1 == 2:\n",
    "    print(f\"Ha seleccionado la opcion {num_1} \\n\")\n",
    "    print(nombre_1 .lower())\n",
    "elif num_1 == 3:\n",
    "    print(f\"Ha seleccionado la opcion {num_1} \\n\")\n",
    "    print(nombre_1 .capitalize())"
   ]
  },
  {
   "cell_type": "code",
   "execution_count": 130,
   "id": "29afe18b",
   "metadata": {},
   "outputs": [
    {
     "name": "stdout",
     "output_type": "stream",
     "text": [
      " \"Fuerte\" (puede causar daños en estructuras débiles). \n"
     ]
    }
   ],
   "source": [
    "# Actividad 9 \n",
    "# Programa que pida al usuario la magnitud de un terremoto\n",
    "# Clasifique la magnitud en una de las siguientes categorías según la escala de Richter e imprima el resultado por pantalla:\n",
    "# ● Menor que 3: \"Muy leve\" (imperceptible).\n",
    "# ● Mayor o igual que 3 y menor que 4: \"Leve\" (ligeramente perceptible).\n",
    "# ● Mayor o igual que 4 y menor que 5: \"Moderado\" (sentido por personas, pero generalmente no causa daños).\n",
    "# ● Mayor o igual que 5 y menor que 6: \"Fuerte\" (puede causar daños en estructuras débiles).\n",
    "# ● Mayor o igual que 6 y menor que 7: \"Muy Fuerte\" (puede causar daños significativos).\n",
    "# ● Mayor o igual que 7: \"Extremo\" (puede causar graves daños a gran escala).\n",
    "\n",
    "magnitud_1 = float(input(\"Ingrese la magnitud del terremoto en numeros\")) \n",
    "\n",
    "if 3 > magnitud_1:\n",
    "    print(\"\"\" \"Muy leve\" (imperceptible). \"\"\")\n",
    "elif 3 >= magnitud_1 < 4:\n",
    "    print(\"\"\" \"Leve\" (ligeramente perceptible). \"\"\")\n",
    "elif 4 >= magnitud_1 < 5:\n",
    "    print(\"\"\" \"Moderado\" (sentido por personas, pero generalmente no causa daños). \"\"\")\n",
    "elif 5 >= magnitud_1 < 6:\n",
    "    print(\"\"\" \"Fuerte\" (puede causar daños en estructuras débiles). \"\"\")\n",
    "elif 6 >= magnitud_1 < 7: \n",
    "    print(\"\"\" \"Muy Fuerte\" (puede causar daños significativos). \"\"\")\n",
    "elif 7 >= magnitud_1:\n",
    "    print(\"\"\" \"Extremo\" (puede causar graves daños a gran escala). \"\"\")"
   ]
  },
  {
   "cell_type": "code",
   "execution_count": null,
   "id": "d3613909",
   "metadata": {},
   "outputs": [
    {
     "name": "stdout",
     "output_type": "stream",
     "text": [
      "Ingresaste Hemisferio NORTE\n",
      "El mes ingresado es: 6\n",
      "El día ingresado es: 27\n",
      "En el hemisferio NORTE, el mes 6, dia 27... es VERANO\n"
     ]
    }
   ],
   "source": [
    "# Actividad 10\n",
    "# Programa que pregunte al usuario en cuál hemisferio se encuentra (N/S), qué mes del año es y qué día es. \n",
    "# Imprimir por pantalla si el usuario se encuentra en otoño, invierno, primavera o verano.\n",
    "\n",
    "hemisferio_by_us = \" \"\n",
    "mes_by_us = 0\n",
    "dia_by_us = 0\n",
    "\n",
    "#----------\n",
    "\n",
    "hemisferio_by_us = input(\"Ingresa en que hemisferio te encuentras con una N o S, segun corresponda\")\n",
    "if (\"n\" == hemisferio_by_us) or (\"N\" == hemisferio_by_us):\n",
    "    print(\"Ingresaste Hemisferio NORTE\")\n",
    "else:\n",
    "    print(\"Ingresaste Hemisferio SUR\")\n",
    "\n",
    "mes_by_us = int(input(\"Ingrese el numero del mes en el que te encuentras: \"))\n",
    "print(\"El mes ingresado es:\", mes_by_us)\n",
    "\n",
    "dia_by_us = int(input(\"Ingrese el día en el que te encuentras: \"))\n",
    "print(\"El día ingresado es:\", dia_by_us)\n",
    "\n",
    "#---------\n",
    "\n",
    "if (mes_by_us == 12 and dia_by_us >= 21) or (mes_by_us in [1, 2]) or (mes_by_us == 3 and dia_by_us <= 20):\n",
    "    if hemisferio_by_us == \"n\" or hemisferio_by_us == \"N\":\n",
    "        print(f\"En el hemisferio NORTE el mes {mes_by_us}, dia {dia_by_us}... es INVIERNO\")\n",
    "    else:\n",
    "        print(f\"En el hemisferio SUR el mes {mes_by_us}, dia {dia_by_us}... es VERANO\")\n",
    "elif (mes_by_us == 3 and dia_by_us >= 21) or (mes_by_us in [4, 5]) or (mes_by_us == 6 and dia_by_us <= 20):\n",
    "    if hemisferio_by_us == \"n\" or hemisferio_by_us == \"N\":\n",
    "        print(f\"En el hemisferio NORTE el mes {mes_by_us}, dia {dia_by_us}... es PRIMAVERA\")\n",
    "    else:\n",
    "        print(f\"En el hemisferio SUR el mes {mes_by_us}, dia {dia_by_us}... es OTOÑO\")\n",
    "elif (mes_by_us == 6 and dia_by_us >= 21) or (mes_by_us in [7, 8]) or (mes_by_us == 9 and dia_by_us <= 20):\n",
    "    if hemisferio_by_us == \"n\" or hemisferio_by_us == \"N\":\n",
    "        print(f\"En el hemisferio NORTE el mes {mes_by_us}, dia {dia_by_us}... es VERANO\")\n",
    "    else:\n",
    "        print(f\"En el hemisferio SUR el mes {mes_by_us}, dia {dia_by_us}... es INVIERNO\")\n",
    "elif (mes_by_us == 9 and dia_by_us >= 21) or (mes_by_us in [10, 11]) or (mes_by_us == 12 and dia_by_us <= 20):\n",
    "    if hemisferio_by_us == \"n\" or hemisferio_by_us == \"N\":\n",
    "        print(f\"En el hemisferio NORTE el mes {mes_by_us}, dia {dia_by_us}... es OTOÑO\")\n",
    "    else:\n",
    "        print(f\"En el hemisferio SUR el mes {mes_by_us}, dia {dia_by_us}... es PRIMAVERA\")\n"
   ]
  }
 ],
 "metadata": {
  "kernelspec": {
   "display_name": "Python 3",
   "language": "python",
   "name": "python3"
  },
  "language_info": {
   "codemirror_mode": {
    "name": "ipython",
    "version": 3
   },
   "file_extension": ".py",
   "mimetype": "text/x-python",
   "name": "python",
   "nbconvert_exporter": "python",
   "pygments_lexer": "ipython3",
   "version": "3.13.7"
  }
 },
 "nbformat": 4,
 "nbformat_minor": 5
}
